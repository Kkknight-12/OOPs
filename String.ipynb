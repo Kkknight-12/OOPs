{
 "cells": [
  {
   "cell_type": "markdown",
   "metadata": {},
   "source": [
    "## str.join\n",
    "\n",
    "it combine the seperated string "
   ]
  },
  {
   "cell_type": "code",
   "execution_count": 1,
   "metadata": {},
   "outputs": [
    {
     "data": {
      "text/plain": [
       "'abc*def'"
      ]
     },
     "execution_count": 1,
     "metadata": {},
     "output_type": "execute_result"
    }
   ],
   "source": [
    "a = ['abc','def']\n",
    "\n",
    "'*'.join(a)"
   ]
  },
  {
   "cell_type": "code",
   "execution_count": 2,
   "metadata": {},
   "outputs": [
    {
     "data": {
      "text/plain": [
       "'abcdef'"
      ]
     },
     "execution_count": 2,
     "metadata": {},
     "output_type": "execute_result"
    }
   ],
   "source": [
    "''.join(a)"
   ]
  },
  {
   "cell_type": "markdown",
   "metadata": {},
   "source": [
    "## slice"
   ]
  },
  {
   "cell_type": "code",
   "execution_count": 13,
   "metadata": {},
   "outputs": [
    {
     "data": {
      "text/plain": [
       "'bdf'"
      ]
     },
     "execution_count": 13,
     "metadata": {},
     "output_type": "execute_result"
    }
   ],
   "source": [
    "'abcdefg'[1:7:2]"
   ]
  },
  {
   "cell_type": "markdown",
   "metadata": {},
   "source": [
    "extract 1st seventh and second element"
   ]
  },
  {
   "cell_type": "markdown",
   "metadata": {},
   "source": [
    "## split()"
   ]
  },
  {
   "cell_type": "code",
   "execution_count": 14,
   "metadata": {},
   "outputs": [
    {
     "data": {
      "text/plain": [
       "['abc', 'def', 'ghi']"
      ]
     },
     "execution_count": 14,
     "metadata": {},
     "output_type": "execute_result"
    }
   ],
   "source": [
    "'abc def ghi'.split()"
   ]
  },
  {
   "cell_type": "code",
   "execution_count": 2,
   "metadata": {},
   "outputs": [
    {
     "name": "stdout",
     "output_type": "stream",
     "text": [
      " love \n"
     ]
    }
   ],
   "source": [
    "string = 'xoxo love xoxo'\n",
    "\n",
    "print(string.strip('xo'))"
   ]
  },
  {
   "cell_type": "markdown",
   "metadata": {},
   "source": [
    "## sorted"
   ]
  },
  {
   "cell_type": "code",
   "execution_count": 16,
   "metadata": {},
   "outputs": [
    {
     "data": {
      "text/plain": [
       "[10, 20, 30, 40]"
      ]
     },
     "execution_count": 16,
     "metadata": {},
     "output_type": "execute_result"
    }
   ],
   "source": [
    "sorted([10, 30, 20, 40])"
   ]
  },
  {
   "cell_type": "code",
   "execution_count": 23,
   "metadata": {},
   "outputs": [
    {
     "name": "stdout",
     "output_type": "stream",
     "text": [
      "ythonpay\n"
     ]
    }
   ],
   "source": [
    "wrd = 'python'\n",
    "\n",
    "if wrd[0] in 'aeiou':\n",
    "    print(f'{wrd}way') # add way if first element is vowel\n",
    "else:\n",
    "    print(f'{wrd[1:]}{wrd[0]}ay') # second to end then first word then add ay"
   ]
  },
  {
   "cell_type": "code",
   "execution_count": 28,
   "metadata": {},
   "outputs": [],
   "source": [
    "\n",
    "def pig_latin(wrd):\n",
    "    \n",
    "    if wrd[0] in 'aeiou':\n",
    "        print(f'{wrd}way') # add way if first element is vowel\n",
    "    else:\n",
    "        print(f'{wrd[1:]}{wrd[0]}ay') #second to end then first word then add ay\n"
   ]
  },
  {
   "cell_type": "code",
   "execution_count": 29,
   "metadata": {},
   "outputs": [
    {
     "name": "stdout",
     "output_type": "stream",
     "text": [
      "ythonpay\n"
     ]
    }
   ],
   "source": [
    "pig_latin('python')"
   ]
  },
  {
   "cell_type": "code",
   "execution_count": 31,
   "metadata": {},
   "outputs": [
    {
     "name": "stdout",
     "output_type": "stream",
     "text": [
      "airway\n"
     ]
    }
   ],
   "source": [
    "pig_latin('air')"
   ]
  },
  {
   "cell_type": "code",
   "execution_count": 55,
   "metadata": {},
   "outputs": [
    {
     "name": "stdout",
     "output_type": "stream",
     "text": [
      "['isway', 'histay', 'isway', 'hatway', 'uway', 'eallyray', 'antway']\n"
     ]
    }
   ],
   "source": [
    "sen='is this is what u really want'\n",
    "\n",
    "output=[]\n",
    "for wrd in sen.split():\n",
    "    if wrd[0] in 'aeiou':\n",
    "        output.append(wrd +'way')\n",
    "    else:\n",
    "        output.append(wrd[1:]+wrd[0]+'ay')\n",
    "\n",
    "print(output)"
   ]
  },
  {
   "cell_type": "markdown",
   "metadata": {},
   "source": [
    "### applying the .join() to join the splitted words"
   ]
  },
  {
   "cell_type": "code",
   "execution_count": 58,
   "metadata": {},
   "outputs": [
    {
     "name": "stdout",
     "output_type": "stream",
     "text": [
      "isway histay isway hatway uway eallyray antway\n"
     ]
    }
   ],
   "source": [
    "output=[]\n",
    "for wrd in sen.split():\n",
    "    if wrd[0] in 'aeiou':\n",
    "        output.append(wrd +'way')\n",
    "    else:\n",
    "        output.append(wrd[1:]+wrd[0]+'ay')\n",
    "\n",
    "print(' '.join(output))\n"
   ]
  },
  {
   "cell_type": "markdown",
   "metadata": {},
   "source": [
    "## Creating function for the same\n",
    "**using return** in place of print"
   ]
  },
  {
   "cell_type": "code",
   "execution_count": 61,
   "metadata": {},
   "outputs": [
    {
     "data": {
      "text/plain": [
       "'isway histay isway hatway uway eallyray antway'"
      ]
     },
     "execution_count": 61,
     "metadata": {},
     "output_type": "execute_result"
    }
   ],
   "source": [
    "def sentence_join(sen):\n",
    "    output=[]\n",
    "    for wrd in sen.split():\n",
    "        if wrd[0] in 'aeiou':\n",
    "            output.append(wrd +'way')\n",
    "        else:\n",
    "            output.append(wrd[1:]+wrd[0]+'ay')\n",
    "\n",
    "    return (' '.join(output))\n",
    "\n",
    "sentence_join('is this is what u really want')"
   ]
  },
  {
   "cell_type": "code",
   "execution_count": 6,
   "metadata": {},
   "outputs": [
    {
     "name": "stdout",
     "output_type": "stream",
     "text": [
      "pythubon\n"
     ]
    }
   ],
   "source": [
    "word = 'python'\n",
    "output = []\n",
    "for letter in word:\n",
    "    if letter in \"aeiou\":\n",
    "        output.append(f'ub{letter}')\n",
    "    else:\n",
    "        output.append(letter)\n",
    "print(\"\".join(output))"
   ]
  },
  {
   "cell_type": "code",
   "execution_count": 14,
   "metadata": {},
   "outputs": [
    {
     "name": "stdout",
     "output_type": "stream",
     "text": [
      "pythubon\n"
     ]
    }
   ],
   "source": [
    "word = 'python'\n",
    "output = []\n",
    "for letter in word:\n",
    "    if letter in \"aeiou\":\n",
    "        output.append(f'ub{letter}')\n",
    "    else:\n",
    "        output.append(letter)\n",
    "print(\"\".join(output))"
   ]
  },
  {
   "cell_type": "code",
   "execution_count": 13,
   "metadata": {},
   "outputs": [
    {
     "name": "stdout",
     "output_type": "stream",
     "text": [
      "pythubon\n"
     ]
    }
   ],
   "source": [
    "def ubbi_dubbi(word):\n",
    "    output = []\n",
    "    for letter in word:\n",
    "        if letter in 'aeiou':\n",
    "            output.append(f'ub{letter}')\n",
    "        else:\n",
    "            output.append(letter)\n",
    " \n",
    "    return ''.join(output)\n",
    " \n",
    "print(ubbi_dubbi('python'))"
   ]
  },
  {
   "cell_type": "markdown",
   "metadata": {},
   "source": [
    "# Sorting a string"
   ]
  },
  {
   "cell_type": "code",
   "execution_count": 17,
   "metadata": {},
   "outputs": [
    {
     "data": {
      "text/plain": [
       "'b c m m n v x'"
      ]
     },
     "execution_count": 17,
     "metadata": {},
     "output_type": "execute_result"
    }
   ],
   "source": [
    "sttr = 'bvcnmxm'\n",
    "\" \".join(sorted(sttr))"
   ]
  },
  {
   "cell_type": "code",
   "execution_count": 19,
   "metadata": {},
   "outputs": [
    {
     "name": "stdout",
     "output_type": "stream",
     "text": [
      "abcefj\n"
     ]
    }
   ],
   "source": [
    "def strsort(a_string):\n",
    "    return ''.join(sorted(a_string))\n",
    "\n",
    "print(strsort('cbjeaf'))"
   ]
  },
  {
   "cell_type": "code",
   "execution_count": null,
   "metadata": {},
   "outputs": [],
   "source": []
  }
 ],
 "metadata": {
  "kernelspec": {
   "display_name": "Python 3",
   "language": "python",
   "name": "python3"
  },
  "language_info": {
   "codemirror_mode": {
    "name": "ipython",
    "version": 3
   },
   "file_extension": ".py",
   "mimetype": "text/x-python",
   "name": "python",
   "nbconvert_exporter": "python",
   "pygments_lexer": "ipython3",
   "version": "3.6.2"
  }
 },
 "nbformat": 4,
 "nbformat_minor": 4
}
