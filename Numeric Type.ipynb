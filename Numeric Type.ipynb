{
 "cells": [
  {
   "cell_type": "code",
   "execution_count": 2,
   "metadata": {},
   "outputs": [
    {
     "data": {
      "text/plain": [
       "15"
      ]
     },
     "execution_count": 2,
     "metadata": {},
     "output_type": "execute_result"
    }
   ],
   "source": [
    "import random\n",
    "number = random.randint(10, 30)\n",
    "number"
   ]
  },
  {
   "cell_type": "code",
   "execution_count": 3,
   "metadata": {},
   "outputs": [
    {
     "name": "stdin",
     "output_type": "stream",
     "text": [
      "Enter your name:  Mayasnk\n"
     ]
    },
    {
     "name": "stdout",
     "output_type": "stream",
     "text": [
      "Hello, Mayasnk!\n"
     ]
    }
   ],
   "source": [
    "name = input('Enter your name: ')\n",
    "print(f'Hello, {name}!')"
   ]
  },
  {
   "cell_type": "code",
   "execution_count": 106,
   "metadata": {},
   "outputs": [
    {
     "name": "stdin",
     "output_type": "stream",
     "text": [
      "Enter your name:  leonardo\n"
     ]
    },
    {
     "name": "stdout",
     "output_type": "stream",
     "text": [
      "Hello, leonardo!, please enter a number\n"
     ]
    },
    {
     "name": "stdin",
     "output_type": "stream",
     "text": [
      "Guess number:  8\n"
     ]
    },
    {
     "name": "stdout",
     "output_type": "stream",
     "text": [
      "Too low\n"
     ]
    },
    {
     "name": "stdin",
     "output_type": "stream",
     "text": [
      "Guess number:  19\n"
     ]
    },
    {
     "name": "stdout",
     "output_type": "stream",
     "text": [
      "Too low\n"
     ]
    },
    {
     "name": "stdin",
     "output_type": "stream",
     "text": [
      "Guess number:  28\n"
     ]
    },
    {
     "name": "stdout",
     "output_type": "stream",
     "text": [
      "Too High\n"
     ]
    },
    {
     "name": "stdin",
     "output_type": "stream",
     "text": [
      "Guess number:  22\n"
     ]
    },
    {
     "name": "stdout",
     "output_type": "stream",
     "text": [
      "Too low\n"
     ]
    },
    {
     "name": "stdin",
     "output_type": "stream",
     "text": [
      "Guess number:  26\n"
     ]
    },
    {
     "name": "stdout",
     "output_type": "stream",
     "text": [
      "Just Right\n"
     ]
    }
   ],
   "source": [
    "import random\n",
    "\n",
    "def guessing_game():\n",
    "    \n",
    "    name = input('Enter your name: ')\n",
    "    print(f'Hello, {name}!, please enter a number')\n",
    "\n",
    "    number = random.randint(10, 30)\n",
    "\n",
    "    while True:\n",
    "    \n",
    "        guess  = int(input('Guess number: '))\n",
    "    \n",
    "        if guess == number:\n",
    "            print(f'Just Right')\n",
    "            break\n",
    "            \n",
    "        elif guess < number:\n",
    "            print(f'Too low')\n",
    "        else:\n",
    "            print(f'Too High')\n",
    "            \n",
    "guessing_game()"
   ]
  },
  {
   "cell_type": "code",
   "execution_count": 46,
   "metadata": {},
   "outputs": [
    {
     "data": {
      "text/plain": [
       "2"
      ]
     },
     "execution_count": 46,
     "metadata": {},
     "output_type": "execute_result"
    }
   ],
   "source": [
    "di = {\"a\":1, \"b\":2, \"c\":3, \"d\":5}\n",
    "\n",
    "# num = random.randint(1, 5)\n",
    "# for i,j in di.items():\n",
    "#     print(i,j)\n",
    "random.choice(list(di.values()))"
   ]
  },
  {
   "cell_type": "code",
   "execution_count": 37,
   "metadata": {},
   "outputs": [
    {
     "data": {
      "text/plain": [
       "dict_items([('a', 1), ('b', 2), ('c', 3), ('d', 5)])"
      ]
     },
     "execution_count": 37,
     "metadata": {},
     "output_type": "execute_result"
    }
   ],
   "source": [
    "di.items()"
   ]
  },
  {
   "cell_type": "code",
   "execution_count": 41,
   "metadata": {},
   "outputs": [
    {
     "data": {
      "text/plain": [
       "1"
      ]
     },
     "execution_count": 41,
     "metadata": {},
     "output_type": "execute_result"
    }
   ],
   "source": [
    "di['a']"
   ]
  },
  {
   "cell_type": "code",
   "execution_count": 62,
   "metadata": {},
   "outputs": [
    {
     "data": {
      "text/plain": [
       "'d'"
      ]
     },
     "execution_count": 62,
     "metadata": {},
     "output_type": "execute_result"
    }
   ],
   "source": [
    "di = {\"1\":\"a\", '2':\"b\", '3':\"c\", '4':\"d\"}\n",
    "\n",
    "alph = random.choice(list(di.values()))\n",
    "\n",
    "\n",
    "while True:\n",
    "    \n",
    "    guess = input('enter alphabat',)\n",
    "    \n",
    "    if alpha == guess:\n",
    "        print('correct')\n",
    "        \n",
    "    elif guess  "
   ]
  },
  {
   "cell_type": "code",
   "execution_count": 19,
   "metadata": {},
   "outputs": [
    {
     "data": {
      "text/plain": [
       "'a'"
      ]
     },
     "execution_count": 19,
     "metadata": {},
     "output_type": "execute_result"
    }
   ],
   "source": [
    "di = {1:\"a\", 2:\"b\", 3:\"c\", 4:\"d\"}\n",
    "\n",
    "alph = random.choice(list(di.values()))\n",
    "\n",
    "alph"
   ]
  },
  {
   "cell_type": "code",
   "execution_count": 93,
   "metadata": {},
   "outputs": [
    {
     "name": "stdout",
     "output_type": "stream",
     "text": [
      "4\n"
     ]
    }
   ],
   "source": [
    "guess = 'd'\n",
    "\n",
    "guess_position = []\n",
    "for i in range(1,len(di)+1):\n",
    "    if guess == di[i]:\n",
    "        print(i)"
   ]
  },
  {
   "cell_type": "code",
   "execution_count": 70,
   "metadata": {},
   "outputs": [
    {
     "name": "stdout",
     "output_type": "stream",
     "text": [
      "2\n"
     ]
    },
    {
     "name": "stdin",
     "output_type": "stream",
     "text": [
      "Enter alpha b\n"
     ]
    },
    {
     "name": "stdout",
     "output_type": "stream",
     "text": [
      "position is 2\n"
     ]
    }
   ],
   "source": [
    "di = {1:\"a\", 2:\"b\", 3:\"c\", 4:\"d\"}\n",
    "\n",
    "number = random.randint(1,4)\n",
    "print(number)\n",
    "\n",
    "guess = input(\"Enter alpha\")\n",
    "\n",
    "for i in range(1,len(di)):\n",
    "    if guess in di[i]:\n",
    "        print(\"position is\",i)"
   ]
  },
  {
   "cell_type": "code",
   "execution_count": 147,
   "metadata": {},
   "outputs": [
    {
     "name": "stdout",
     "output_type": "stream",
     "text": [
      "1\n"
     ]
    },
    {
     "name": "stdin",
     "output_type": "stream",
     "text": [
      "Enter alpha d\n"
     ]
    },
    {
     "name": "stdout",
     "output_type": "stream",
     "text": [
      "large\n"
     ]
    },
    {
     "name": "stdin",
     "output_type": "stream",
     "text": [
      "Enter alpha b\n"
     ]
    },
    {
     "name": "stdout",
     "output_type": "stream",
     "text": [
      "large\n"
     ]
    },
    {
     "name": "stdin",
     "output_type": "stream",
     "text": [
      "Enter alpha a\n"
     ]
    },
    {
     "name": "stdout",
     "output_type": "stream",
     "text": [
      "correct\n"
     ]
    }
   ],
   "source": [
    "import random\n",
    "\n",
    "di = {1:\"a\", 2:\"b\", 3:\"c\", 4:\"d\"}\n",
    "\n",
    "number = random.randint(1,4)\n",
    "print(number)\n",
    "\n",
    "while True:\n",
    "    guess = input(\"Enter alpha\")\n",
    "    status = False   \n",
    "    \n",
    "    for i in range(1,len(di)+1):\n",
    "        if guess in di[i]:\n",
    "#             print(i,number)\n",
    "            if i == number:\n",
    "                print(\"correct\")\n",
    "                status = True\n",
    "                break\n",
    "             \n",
    "            elif i > number:\n",
    "                print(\"large\")\n",
    "            else:\n",
    "                print(\"small\") \n",
    "    if status:\n",
    "        break"
   ]
  },
  {
   "cell_type": "code",
   "execution_count": 124,
   "metadata": {},
   "outputs": [
    {
     "name": "stdout",
     "output_type": "stream",
     "text": [
      "6\n"
     ]
    }
   ],
   "source": [
    "def summ(*nums):\n",
    "    output=0\n",
    "    for i in nums:\n",
    "        output +=i\n",
    "    print(output) \n",
    "    \n",
    "summ(1,2,3)"
   ]
  },
  {
   "cell_type": "code",
   "execution_count": 138,
   "metadata": {},
   "outputs": [
    {
     "name": "stdin",
     "output_type": "stream",
     "text": [
      "enter run time 10\n",
      "enter run time 10\n",
      "enter run time \n"
     ]
    },
    {
     "name": "stdout",
     "output_type": "stream",
     "text": [
      "20.0\n"
     ]
    }
   ],
   "source": [
    "number_of_run = 0\n",
    "\n",
    "total_time = 0\n",
    " \n",
    "while True:\n",
    "    \n",
    "    timing = input('enter run time')\n",
    "    \n",
    "    if not timing:\n",
    "        break\n",
    "    \n",
    "    number +=1  # counts the number of time he ran\n",
    "    \n",
    "    total_time +=float(timing) # sum run time of all the laps\n",
    "    \n",
    "print(total_time)"
   ]
  },
  {
   "cell_type": "code",
   "execution_count": null,
   "metadata": {},
   "outputs": [],
   "source": []
  }
 ],
 "metadata": {
  "kernelspec": {
   "display_name": "Python 3",
   "language": "python",
   "name": "python3"
  },
  "language_info": {
   "codemirror_mode": {
    "name": "ipython",
    "version": 3
   },
   "file_extension": ".py",
   "mimetype": "text/x-python",
   "name": "python",
   "nbconvert_exporter": "python",
   "pygments_lexer": "ipython3",
   "version": "3.6.2"
  }
 },
 "nbformat": 4,
 "nbformat_minor": 4
}
