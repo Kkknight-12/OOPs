{
 "cells": [
  {
   "cell_type": "markdown",
   "metadata": {},
   "source": [
    "Python the __init__() method is called the constructor and is always called when an object is created."
   ]
  },
  {
   "cell_type": "code",
   "execution_count": 1,
   "metadata": {},
   "outputs": [],
   "source": [
    "class Bike:\n",
    "    def __init__(self,color,price):\n",
    "        self.color = color\n",
    "        self.price = price\n",
    "        \n",
    "    def __repr__(self):\n",
    "        return f'Bike color is {self.color} and price is {self.price}.'"
   ]
  },
  {
   "cell_type": "code",
   "execution_count": 2,
   "metadata": {},
   "outputs": [
    {
     "name": "stdout",
     "output_type": "stream",
     "text": [
      "Bike color is Blue and price is 89.99.\n",
      "Bike color is purple and price is 25.0.\n"
     ]
    }
   ],
   "source": [
    "testOne = Bike('Blue',89.99)\n",
    "print(testOne)\n",
    "\n",
    "testTwo = Bike('purple',25.0)\n",
    "print(testTwo)"
   ]
  },
  {
   "cell_type": "code",
   "execution_count": 3,
   "metadata": {},
   "outputs": [
    {
     "name": "stdout",
     "output_type": "stream",
     "text": [
      "Bike color is Blueand price is 89.99\n",
      "Bike color is purpleand price is 25.0\n"
     ]
    }
   ],
   "source": [
    "class Bike:\n",
    "    def __init__(self,color,price):\n",
    "        self.color = color\n",
    "        self.price = price\n",
    "        \n",
    "    def __repr__(self):\n",
    "        return \"Bike color is {}and price is {}\".format(self.color, self.price )\n",
    "\n",
    "\n",
    "testOne = Bike('Blue',89.99)\n",
    "print(testOne)\n",
    "\n",
    "testTwo = Bike('purple',25.0)\n",
    "print(testTwo)"
   ]
  },
  {
   "cell_type": "code",
   "execution_count": 153,
   "metadata": {},
   "outputs": [],
   "source": [
    "class AppleBasket:\n",
    "    \n",
    "    quantity = 0\n",
    "    \n",
    "    def __init__(self,apple_color, apple_quantity):\n",
    "        self.apple_color = apple_color\n",
    "        self.apple_quantity = apple_quantity\n",
    "        AppleBasket.quantity = AppleBasket.quantity+1\n",
    "        \n",
    "    @classmethod\n",
    "    def increase(cls):\n",
    "        return cls.quantity\n",
    "    \n",
    "    def __str__(self):\n",
    "        return \"A basket of {} {} apples.\".format(self.apple_color, self.apple_quantity)"
   ]
  },
  {
   "cell_type": "code",
   "execution_count": 140,
   "metadata": {},
   "outputs": [
    {
     "name": "stdout",
     "output_type": "stream",
     "text": [
      "A basket of blue 50 apples.\n"
     ]
    }
   ],
   "source": [
    "app1 = AppleBasket('blue',50)\n",
    "print(app1)"
   ]
  },
  {
   "cell_type": "code",
   "execution_count": 141,
   "metadata": {},
   "outputs": [
    {
     "name": "stdout",
     "output_type": "stream",
     "text": [
      "A basket of red 5 apples.\n"
     ]
    }
   ],
   "source": [
    "app2 = AppleBasket('red',5)\n",
    "print(app2)"
   ]
  },
  {
   "cell_type": "code",
   "execution_count": 142,
   "metadata": {},
   "outputs": [
    {
     "name": "stdout",
     "output_type": "stream",
     "text": [
      "2\n"
     ]
    }
   ],
   "source": [
    "print(AppleBasket.increase())"
   ]
  },
  {
   "cell_type": "code",
   "execution_count": 145,
   "metadata": {},
   "outputs": [
    {
     "data": {
      "text/plain": [
       "2"
      ]
     },
     "execution_count": 145,
     "metadata": {},
     "output_type": "execute_result"
    }
   ],
   "source": [
    "app1.increase()"
   ]
  },
  {
   "cell_type": "code",
   "execution_count": 161,
   "metadata": {},
   "outputs": [],
   "source": [
    "class AppleBasket:\n",
    "    \n",
    "    quantity = 0\n",
    "    \n",
    "    def __init__(self,apple_color, apple_quantity):\n",
    "        self.apple_color = apple_color\n",
    "        self.apple_quantity = apple_quantity\n",
    "        #AppleBasket.quantity = AppleBasket.quantity+1\n",
    "        \n",
    "    @classmethod\n",
    "    def increase(cls):\n",
    "        cls.quantity = cls.quantity+1\n",
    "        return cls.quantity\n",
    "    \n",
    "    def __str__(self):\n",
    "        return \"A basket of {} {} apples.\".format(self.apple_color, self.apple_quantity)\n",
    "    "
   ]
  },
  {
   "cell_type": "code",
   "execution_count": 162,
   "metadata": {},
   "outputs": [
    {
     "name": "stdout",
     "output_type": "stream",
     "text": [
      "A basket of blue 50 apples.\n"
     ]
    }
   ],
   "source": [
    "app11 = AppleBasket('blue',50)\n",
    "print(app11)"
   ]
  },
  {
   "cell_type": "code",
   "execution_count": 163,
   "metadata": {},
   "outputs": [
    {
     "name": "stdout",
     "output_type": "stream",
     "text": [
      "A basket of red 5 apples.\n"
     ]
    }
   ],
   "source": [
    "app22 = AppleBasket('red',5)\n",
    "print(app22)"
   ]
  },
  {
   "cell_type": "code",
   "execution_count": 164,
   "metadata": {},
   "outputs": [
    {
     "data": {
      "text/plain": [
       "1"
      ]
     },
     "execution_count": 164,
     "metadata": {},
     "output_type": "execute_result"
    }
   ],
   "source": [
    "AppleBasket.increase()"
   ]
  },
  {
   "cell_type": "code",
   "execution_count": 165,
   "metadata": {},
   "outputs": [
    {
     "data": {
      "text/plain": [
       "2"
      ]
     },
     "execution_count": 165,
     "metadata": {},
     "output_type": "execute_result"
    }
   ],
   "source": [
    "app11.increase()"
   ]
  },
  {
   "cell_type": "markdown",
   "metadata": {},
   "source": [
    "# Python Proagramming 3 Assignment"
   ]
  },
  {
   "cell_type": "code",
   "execution_count": 192,
   "metadata": {},
   "outputs": [
    {
     "name": "stdout",
     "output_type": "stream",
     "text": [
      "Pokemon name: Belle, Type: Normal, Level: 5\n"
     ]
    }
   ],
   "source": [
    "class Pokemon(object):\n",
    "    attack = 12\n",
    "    defense = 10\n",
    "    health = 15\n",
    "    p_type = \"Normal\"\n",
    "\n",
    "    def __init__(self, name, level = 5):\n",
    "        self.name = name\n",
    "        self.level = level\n",
    "\n",
    "    def train(self):\n",
    "        self.update()\n",
    "        self.attack_up()\n",
    "        self.defense_up()\n",
    "        self.health_up()\n",
    "        self.level = self.level + 1\n",
    "        if self.level%self.evolve == 0:\n",
    "            return self.level, \"Evolved!\"\n",
    "        else:\n",
    "            return self.level\n",
    "\n",
    "    def attack_up(self):\n",
    "        self.attack = self.attack + self.attack_boost\n",
    "        return self.attack\n",
    "\n",
    "    def defense_up(self):\n",
    "        self.defense = self.defense + self.defense_boost\n",
    "        return self.defense\n",
    "\n",
    "    def health_up(self):\n",
    "        self.health = self.health + self.health_boost\n",
    "        return self.health\n",
    "\n",
    "    def update(self):\n",
    "        self.health_boost = 5\n",
    "        self.attack_boost = 3\n",
    "        self.defense_boost = 2\n",
    "        self.evolve = 10\n",
    "\n",
    "    def __str__(self):\n",
    "        self.update()\n",
    "        return \"Pokemon name: {}, Type: {}, Level: {}\".format(self.name, self.p_type, self.level)\n",
    "\n",
    "class Grass_Pokemon(Pokemon):\n",
    "    attack = 15\n",
    "    defense = 14\n",
    "    health = 12\n",
    "\n",
    "    def update(self):\n",
    "        self.health_boost = 6\n",
    "        self.attack_boost = 2\n",
    "        self.defense_boost = 3\n",
    "        self.evolve = 12\n",
    "\n",
    "    def moves(self):\n",
    "        self.p_moves = [\"razor leaf\", \"synthesis\", \"petal dance\"]\n",
    "        \n",
    "    def action(self):\n",
    "        return \"{} knows a lot of different moves!\".format(self.name)\n",
    "p1 = Grass_Pokemon('Belle')\n",
    "print(p1)\n"
   ]
  },
  {
   "cell_type": "code",
   "execution_count": 176,
   "metadata": {},
   "outputs": [],
   "source": [
    "class Pokemon(object):\n",
    "    attack = 12\n",
    "    defense = 10\n",
    "    health = 15\n",
    "    p_type = \"Normal\"\n",
    "\n",
    "    def __init__(self, name, level = 5):\n",
    "        self.name = name\n",
    "        self.level = level\n",
    "\n",
    "    def train(self):\n",
    "        self.update()\n",
    "        self.attack_up()\n",
    "        self.defense_up()\n",
    "        self.health_up()\n",
    "        self.level = self.level + 1\n",
    "        if self.level%self.evolve == 0:\n",
    "            return self.level, \"Evolved!\"\n",
    "        else:\n",
    "            return self.level\n",
    "\n",
    "    def attack_up(self):\n",
    "        self.attack = self.attack + self.attack_boost\n",
    "        return self.attack\n",
    "\n",
    "    def defense_up(self):\n",
    "        self.defense = self.defense + self.defense_boost\n",
    "        return self.defense\n",
    "\n",
    "    def health_up(self):\n",
    "        self.health = self.health + self.health_boost\n",
    "        return self.health\n",
    "\n",
    "    def update(self):\n",
    "        self.health_boost = 5\n",
    "        self.attack_boost = 3\n",
    "        self.defense_boost = 2\n",
    "        self.evolve = 10\n",
    "\n",
    "    def __str__(self):\n",
    "        return \"Pokemon name: {}, Type: {}, Level: {}\".format(self.name, self.p_type, self.level)\n",
    "\n",
    "class Grass_Pokemon(Pokemon):\n",
    "    attack = 15\n",
    "    defense = 14\n",
    "    health = 12\n",
    "    p_type = \"Grass\"\n",
    "\n",
    "    def update(self):\n",
    "        self.health_boost = 6\n",
    "        self.attack_boost = 2\n",
    "        if self.level>= 10:\n",
    "            self.attack = self.attack + self.attack_boost\n",
    "            return self.attack\n",
    "        \n",
    "        self.attack_boost = 2\n",
    "        self.defense_boost = 3\n",
    "        self.evolve = 12\n",
    "\n",
    "    def moves(self):\n",
    "        self.p_moves = [\"razor leaf\", \"synthesis\", \"petal dance\"]\n",
    "        \n",
    "    def action(self):\n",
    "        return \"{} knows a lot of different moves!\".format(self.name)\n"
   ]
  },
  {
   "cell_type": "code",
   "execution_count": 177,
   "metadata": {},
   "outputs": [
    {
     "name": "stdout",
     "output_type": "stream",
     "text": [
      "Pokemon name: Bulby, Type: Grass, Level: 5\n",
      "Pokemon name: Grass_Pokemon, Type: Grass, Level: 10\n",
      "17\n"
     ]
    }
   ],
   "source": [
    "p2 =Grass_Pokemon(\"Bulby\")\n",
    "print(p2)\n",
    "p3 =Grass_Pokemon(\"Grass_Pokemon\",10)\n",
    "print(p3)\n",
    "print(p3.update())"
   ]
  },
  {
   "cell_type": "code",
   "execution_count": 17,
   "metadata": {},
   "outputs": [
    {
     "name": "stdout",
     "output_type": "stream",
     "text": [
      "('Fire','Water')\n",
      "('Water','Grass')\n",
      "('Dark','Psychic')\n",
      "('Electric','Fighting')\n"
     ]
    }
   ],
   "source": [
    "class Pokemon():\n",
    "    attack = 12\n",
    "    defense = 10\n",
    "    health = 15\n",
    "    p_type = \"Normal\"\n",
    "\n",
    "    def __init__(self, name, level = 5):\n",
    "        self.name = name\n",
    "        self.level = level\n",
    "        self.weak = \"Normal\"\n",
    "        self.strong = \"Normal\"\n",
    "        self.p_type = self.p_type[:]\n",
    "\n",
    "    def opponent(self):\n",
    "        if self.p_type == \"Grass\":\n",
    "            Grass_Pokemon.update(self)\n",
    "            print(\"('{}','{}')\".format(self.strong,self.weak))\n",
    "            \n",
    "        elif self.p_type == \"Ghost\":\n",
    "            Ghost_Pokemon.update(self)\n",
    "            print(\"('{}','{}')\".format(self.strong,self.weak))\n",
    "            \n",
    "        elif self.p_type == \"Fire\":\n",
    "            Fire_Pokemon.update(self)\n",
    "            print(\"('{}','{}')\".format(self.strong,self.weak))\n",
    "            \n",
    "        elif self.p_type == \"Flying\":\n",
    "            Flying_Pokemon.update(self)\n",
    "            print(\"('{}','{}')\".format(self.strong,self.weak))\n",
    "            \n",
    "\n",
    "class Grass_Pokemon(Pokemon):\n",
    "    attack = 15\n",
    "    defense = 14\n",
    "    health = 12\n",
    "    p_type = \"Grass\"\n",
    "    \n",
    "    def opponent(self):\n",
    "        Pokemon.opponent(self)\n",
    "   \n",
    "    def update(self):\n",
    "        self.health_boost = 6\n",
    "        self.attack_boost = 2\n",
    "        self.defense_boost = 3\n",
    "        self.evolve = 12\n",
    "        self.strong = \"Fire\"\n",
    "        self.weak = \"Water\"\n",
    "    \n",
    "class Ghost_Pokemon(Pokemon):\n",
    "    \n",
    "    p_type = \"Ghost\"\n",
    "\n",
    "    def update(self):\n",
    "        self.health_boost = 3\n",
    "        self.attack_boost = 4\n",
    "        self.defense_boost = 3\n",
    "        self.strong = \"Dark\"\n",
    "        self.weak = \"Psychic\"\n",
    "        \n",
    "class Fire_Pokemon(Pokemon):\n",
    "    p_type = \"Fire\"\n",
    "    \n",
    "    def update(self):\n",
    "        self.health_boost = 3\n",
    "        self.attack_boost = 4\n",
    "        self.defense_boost = 3\n",
    "        self.strong = \"Water\"\n",
    "        self.weak = \"Grass\"\n",
    "\n",
    "class Flying_Pokemon(Pokemon):\n",
    "    p_type = \"Flying\"\n",
    "    \n",
    "    def update(self):\n",
    "        self.health_boost = 3\n",
    "        self.attack_boost = 4\n",
    "        self.defense_boost = 3\n",
    "        self.strong = \"Electric\" \n",
    "        self.weak = \"Fighting\"\n",
    "\n",
    "p2 =Grass_Pokemon(\"Bulby\")\n",
    "p2.opponent()\n",
    "\n",
    "p4 =Fire_Pokemon(\"c\")\n",
    "p4.opponent()\n",
    "\n",
    "p3 =Ghost_Pokemon(\"b\")\n",
    "p3.opponent()\n",
    "\n",
    "p5 =Flying_Pokemon('d')\n",
    "p5.opponent()      "
   ]
  },
  {
   "cell_type": "code",
   "execution_count": 19,
   "metadata": {},
   "outputs": [
    {
     "data": {
      "text/plain": [
       "('Fire', 'Water')"
      ]
     },
     "execution_count": 19,
     "metadata": {},
     "output_type": "execute_result"
    }
   ],
   "source": [
    "class Pokemon():\n",
    "    attack = 12\n",
    "    defense = 10\n",
    "    health = 15\n",
    "    p_type = \"Normal\"\n",
    "\n",
    "    def __init__(self, name, level = 5):\n",
    "        self.name = name\n",
    "        self.level = level\n",
    "        self.weak = \"Normal\"\n",
    "        self.strong = \"Normal\"\n",
    "        self.p_type = self.p_type[:]\n",
    "\n",
    "    def opponent(self):\n",
    "        return self.weak, self.strong\n",
    "\n",
    "class Grass_Pokemon(Pokemon):\n",
    "    attack = 15\n",
    "    defense = 14\n",
    "    health = 12\n",
    "    p_type = \"Grass\"\n",
    "    \n",
    "    def __init__(self, name,level = 5):\n",
    "        self.name = name\n",
    "        self.level = level\n",
    "        self.weak = \"Fire\"\n",
    "        self.strong = \"Water\"\n",
    "\n",
    "    def update(self):\n",
    "        self.health_boost = 6\n",
    "        self.attack_boost = 2\n",
    "        self.defense_boost = 3\n",
    "        self.evolve = 12\n",
    "\n",
    "class Ghost_Pokemon(Pokemon):\n",
    "    p_type = \"Ghost\"\n",
    "    \n",
    "    def __init__(self, name,level = 5):\n",
    "        self.name = name\n",
    "        self.level = level\n",
    "        self.weak = \"Dark\"\n",
    "        self.strong = \"Psychic\"\n",
    "    \n",
    "    def update(self):\n",
    "        self.health_boost = 3\n",
    "        self.attack_boost = 4\n",
    "        self.defense_boost = 3\n",
    "\n",
    "class Fire_Pokemon(Pokemon):\n",
    "    p_type = \"Fire\"\n",
    "    \n",
    "    def __init__(self, name,level = 5):\n",
    "        self.name = name\n",
    "        self.level = level\n",
    "        self.weak = \"Water\"\n",
    "        self.strong = \"Grass\"    \n",
    "\n",
    "class Flying_Pokemon(Pokemon):\n",
    "    p_type = \"Flying\"\n",
    "\n",
    "    def __init__(self, name,level = 5):\n",
    "        self.name = name\n",
    "        self.level = level\n",
    "        self.weak = \"Electric\"\n",
    "        self.strong = \"Fighting\"     \n",
    "        \n",
    "\n",
    "p2 =Grass_Pokemon(\"Bulby\")\n",
    "p2.opponent()"
   ]
  },
  {
   "cell_type": "code",
   "execution_count": 20,
   "metadata": {},
   "outputs": [
    {
     "name": "stdout",
     "output_type": "stream",
     "text": [
      "Fire Water\n"
     ]
    }
   ],
   "source": [
    "class Pokemon():\n",
    "    attack = 12\n",
    "    defense = 10\n",
    "    health = 15\n",
    "    p_type = \"Normal\"\n",
    "\n",
    "    def __init__(self, name, level = 5):\n",
    "        self.name = name\n",
    "        self.level = level\n",
    "        self.weak = \"Normal\"\n",
    "        self.strong = \"Normal\"\n",
    "        self.p_type = self.p_type[:]\n",
    "\n",
    "    def opponent(self):\n",
    "        return self.weak, self.strong\n",
    "\n",
    "class Grass_Pokemon(Pokemon):\n",
    "    attack = 15\n",
    "    defense = 14\n",
    "    health = 12\n",
    "    p_type = \"Grass\"\n",
    "    \n",
    "    def opponent(self):\n",
    "        Grass_Pokemon.update(self)\n",
    "        print(self.strong,self.weak)\n",
    "   \n",
    "    def update(self):\n",
    "        self.health_boost = 6\n",
    "        self.attack_boost = 2\n",
    "        self.defense_boost = 3\n",
    "        self.evolve = 12\n",
    "        self.strong = \"Fire\"\n",
    "        self.weak = \"Water\"\n",
    "\n",
    "p2 =Grass_Pokemon(\"Bulby\")\n",
    "p2.opponent()"
   ]
  },
  {
   "cell_type": "code",
   "execution_count": 8,
   "metadata": {},
   "outputs": [
    {
     "name": "stdout",
     "output_type": "stream",
     "text": [
      "Last element from 2nd dim:  10\n"
     ]
    }
   ],
   "source": [
    "import numpy as np\n",
    "\n",
    "arr = np.array([[1,2,3,4,5], [6,7,8,9,10]])\n",
    "\n",
    "print('Last element from 2nd dim: ', arr[1, -1])"
   ]
  },
  {
   "cell_type": "code",
   "execution_count": 9,
   "metadata": {},
   "outputs": [
    {
     "data": {
      "text/plain": [
       "1"
      ]
     },
     "execution_count": 9,
     "metadata": {},
     "output_type": "execute_result"
    }
   ],
   "source": [
    "arr[0,0]"
   ]
  },
  {
   "cell_type": "code",
   "execution_count": 10,
   "metadata": {},
   "outputs": [],
   "source": [
    "arr[0,0] = 9"
   ]
  },
  {
   "cell_type": "code",
   "execution_count": 11,
   "metadata": {},
   "outputs": [
    {
     "data": {
      "text/plain": [
       "9"
      ]
     },
     "execution_count": 11,
     "metadata": {},
     "output_type": "execute_result"
    }
   ],
   "source": [
    "arr[0,0]"
   ]
  },
  {
   "cell_type": "markdown",
   "metadata": {},
   "source": [
    "## https://thepythonguru.com/python-inheritance-and-polymorphism/"
   ]
  },
  {
   "cell_type": "markdown",
   "metadata": {},
   "source": [
    "## Python inheritance and polymorphism\n",
    "Inheritance allows programmer to create a general class first then later extend it to more specialized class. It also allows programmer to write better code.\n",
    "\n",
    "Using inheritance you can inherit all access data fields and methods, plus you can add your own methods and fields, thus inheritance provide a way to organize code, rather than rewriting it from scratch.\n",
    "\n",
    "In object-oriented terminology when class X extend class Y, then Y is called super class or base class and X is called subclass or derived class. One more point to note that only data fields and method which are not private are accessible by child classes, private data fields and methods are accessible only inside the class.\n",
    "\n",
    "Syntax to create a subclass is:"
   ]
  },
  {
   "cell_type": "code",
   "execution_count": null,
   "metadata": {},
   "outputs": [],
   "source": [
    "class SubClass(SuperClass):\n",
    "  #data fields\n",
    "  #instance methods"
   ]
  },
  {
   "cell_type": "code",
   "execution_count": 13,
   "metadata": {},
   "outputs": [
    {
     "name": "stdout",
     "output_type": "stream",
     "text": [
      "Ford MustangGT350 in red color\n",
      "Ford Mustang\n"
     ]
    }
   ],
   "source": [
    "class Vehicle:\n",
    "\n",
    "    def __init__(self, name, color):\n",
    "        self.__name = name      # __name is private to Vehicle class\n",
    "        self.__color = color\n",
    "\n",
    "    def getColor(self):         # getColor() function is accessible to class Car\n",
    "        return self.__color\n",
    "\n",
    "    def setColor(self, color):  # setColor is accessible outside the class\n",
    "        self.__color = color\n",
    "\n",
    "    def getName(self):          # getName() is accessible outside the class\n",
    "        return self.__name\n",
    "\n",
    "class Car(Vehicle):\n",
    "\n",
    "    def __init__(self, name, color, model):\n",
    "        # call parent constructor to set name and color  \n",
    "        super().__init__(name, color)       \n",
    "        self.__model = model\n",
    "\n",
    "    def getDescription(self):\n",
    "        return self.getName() + self.__model + \" in \" + self.getColor() + \" color\"\n",
    "\n",
    "# in method getDescrition we are able to call getName(), getColor() because they are \n",
    "# accessible to child class through inheritance\n",
    "\n",
    "c = Car(\"Ford Mustang\", \"red\", \"GT350\")\n",
    "print(c.getDescription())\n",
    "print(c.getName()) # car has no method getName() but it is accessible through class Vehicle"
   ]
  },
  {
   "cell_type": "markdown",
   "metadata": {},
   "source": [
    "Here we have created base class Vehicle and it's subclass Car. Notice that we have not defined getName() in the Car class but we are still able to access it, because the class Car inherits it from the Vehicle class. In the above code super() method is used to call method of the base class. Here is the how super() works\n",
    "\n",
    "Suppose you need to call a method called get_information() in the base class from child class , you can do so using the following code."
   ]
  },
  {
   "cell_type": "code",
   "execution_count": null,
   "metadata": {},
   "outputs": [],
   "source": [
    "super().get_information()"
   ]
  },
  {
   "cell_type": "markdown",
   "metadata": {},
   "source": [
    "Similarly, you can call base class constructor from child class constructor using the following code."
   ]
  },
  {
   "cell_type": "code",
   "execution_count": null,
   "metadata": {},
   "outputs": [],
   "source": [
    "super().__init__()"
   ]
  },
  {
   "cell_type": "markdown",
   "metadata": {},
   "source": [
    "Multiple inheritance\n",
    "Unlike languages like Java and C#, python allows multiple inheritance i.e you can inherit from multiple classes at the same time like this,"
   ]
  },
  {
   "cell_type": "code",
   "execution_count": null,
   "metadata": {},
   "outputs": [],
   "source": [
    "class Subclass(SuperClass1, SuperClass2, ...):\n",
    "   # initializer\n",
    "   # methods"
   ]
  },
  {
   "cell_type": "code",
   "execution_count": 14,
   "metadata": {},
   "outputs": [
    {
     "name": "stdout",
     "output_type": "stream",
     "text": [
      "method_super1 method called\n",
      "method_super2 method called\n"
     ]
    }
   ],
   "source": [
    "class MySuperClass1():\n",
    "\n",
    "    def method_super1(self):\n",
    "        print(\"method_super1 method called\")\n",
    "\n",
    "class MySuperClass2():\n",
    "\n",
    "    def method_super2(self):\n",
    "        print(\"method_super2 method called\")\n",
    "\n",
    "class ChildClass(MySuperClass1, MySuperClass2):\n",
    "\n",
    "    def child_method(self):\n",
    "        print(\"child method\")\n",
    "\n",
    "c = ChildClass()\n",
    "c.method_super1()\n",
    "c.method_super2()"
   ]
  },
  {
   "cell_type": "markdown",
   "metadata": {},
   "source": [
    "As you can see becuase ChildClass inherited MySuperClass1, MySuperClass2, object of ChildClass is now able to access method_super1() and method_super2()."
   ]
  },
  {
   "cell_type": "markdown",
   "metadata": {},
   "source": [
    "## Overriding methods\n",
    "To override a method in the base class, sub class needs to define a method of same signature. (i.e same method name and same number of parameters as method in base class)."
   ]
  },
  {
   "cell_type": "code",
   "execution_count": 15,
   "metadata": {},
   "outputs": [
    {
     "name": "stdout",
     "output_type": "stream",
     "text": [
      "m1 from B\n"
     ]
    }
   ],
   "source": [
    "class A():\n",
    "\n",
    "    def __init__(self):\n",
    "        self.__x = 1\n",
    "\n",
    "    def m1(self):\n",
    "        print(\"m1 from A\")\n",
    "\n",
    "\n",
    "class B(A):\n",
    "\n",
    "    def __init__(self):\n",
    "        self.__y = 1\n",
    "\n",
    "    def m1(self):\n",
    "        print(\"m1 from B\")\n",
    "\n",
    "c = B()\n",
    "c.m1()"
   ]
  },
  {
   "cell_type": "markdown",
   "metadata": {},
   "source": [
    "Here we are overriding m1() method from the base class. Try commenting m1() method in B class and now m1() method from Base class i.e class A will run."
   ]
  },
  {
   "cell_type": "markdown",
   "metadata": {},
   "source": [
    "# isinstance() function\n",
    "The isinstance() function is used to determine whether the object is an instance of the class or not.<br>\n",
    "\n",
    "Syntax: isinstance(object, class_type)"
   ]
  },
  {
   "cell_type": "code",
   "execution_count": 16,
   "metadata": {},
   "outputs": [
    {
     "data": {
      "text/plain": [
       "True"
      ]
     },
     "execution_count": 16,
     "metadata": {},
     "output_type": "execute_result"
    }
   ],
   "source": [
    "isinstance(1, int)"
   ]
  },
  {
   "cell_type": "code",
   "execution_count": 17,
   "metadata": {},
   "outputs": [
    {
     "data": {
      "text/plain": [
       "False"
      ]
     },
     "execution_count": 17,
     "metadata": {},
     "output_type": "execute_result"
    }
   ],
   "source": [
    "isinstance(1.2, int)"
   ]
  },
  {
   "cell_type": "code",
   "execution_count": 18,
   "metadata": {},
   "outputs": [
    {
     "data": {
      "text/plain": [
       "True"
      ]
     },
     "execution_count": 18,
     "metadata": {},
     "output_type": "execute_result"
    }
   ],
   "source": [
    "isinstance([1,2,3,4], list)"
   ]
  },
  {
   "cell_type": "markdown",
   "metadata": {},
   "source": [
    "# Inheriting Variables and Methods"
   ]
  },
  {
   "cell_type": "markdown",
   "metadata": {},
   "source": [
    "## Mechanics of Defining a Subclass¶"
   ]
  },
  {
   "cell_type": "code",
   "execution_count": 1,
   "metadata": {},
   "outputs": [],
   "source": [
    "from random import randrange\n",
    "\n",
    "# Here's the original Pet class\n",
    "class Pet():\n",
    "    boredom_decrement = 4\n",
    "    hunger_decrement = 6\n",
    "    boredom_threshold = 5\n",
    "    hunger_threshold = 10\n",
    "    sounds = ['Mrrp']\n",
    "    def __init__(self, name = \"Kitty\"):\n",
    "        self.name = name\n",
    "        self.hunger = randrange(self.hunger_threshold)\n",
    "        self.boredom = randrange(self.boredom_threshold)\n",
    "        self.sounds = self.sounds[:]  # copy the class attribute, so that when we make changes to it, we won't affect the other Pets in the class\n",
    "\n",
    "    def clock_tick(self):\n",
    "        self.boredom += 1\n",
    "        self.hunger += 1\n",
    "\n",
    "    def mood(self):\n",
    "        if self.hunger <= self.hunger_threshold and self.boredom <= self.boredom_threshold:\n",
    "            return \"happy\"\n",
    "        elif self.hunger > self.hunger_threshold:\n",
    "            return \"hungry\"\n",
    "        else:\n",
    "            return \"bored\"\n",
    "\n",
    "    def __str__(self):\n",
    "        state = \"     I'm \" + self.name + \". \"\n",
    "        state += \" I feel \" + self.mood() + \". \"\n",
    "        # state += \"Hunger %d Boredom %d Words %s\" % (self.hunger, self.boredom, self.sounds)\n",
    "        return state\n",
    "\n",
    "    def hi(self):\n",
    "        print(self.sounds[randrange(len(self.sounds))])\n",
    "        self.reduce_boredom()\n",
    "\n",
    "    def teach(self, word):\n",
    "        self.sounds.append(word)\n",
    "        self.reduce_boredom()\n",
    "\n",
    "    def feed(self):\n",
    "        self.reduce_hunger()\n",
    "\n",
    "    def reduce_hunger(self):\n",
    "        self.hunger = max(0, self.hunger - self.hunger_decrement)\n",
    "\n",
    "    def reduce_boredom(self):\n",
    "        self.boredom = max(0, self.boredom - self.boredom_decrement)\n",
    "\n",
    "# Here's the new definition of class Cat, a subclass of Pet.\n",
    "class Cat(Pet): # the class name that the new class inherits from goes in the parentheses, like so.\n",
    "    sounds = ['Meow']\n",
    "\n",
    "    def chasing_rats(self):\n",
    "        return \"What are you doing, Pinky? Taking over the world?!\"\n"
   ]
  },
  {
   "cell_type": "code",
   "execution_count": 2,
   "metadata": {},
   "outputs": [
    {
     "name": "stdout",
     "output_type": "stream",
     "text": [
      "     I'm Fido.  I feel happy. \n",
      "Mrrp\n",
      "     I'm Fido.  I feel happy. \n",
      "     I'm Fluffy.  I feel happy. \n",
      "Meow\n",
      "     I'm Fluffy.  I feel happy. \n",
      "What are you doing, Pinky? Taking over the world?!\n"
     ]
    }
   ],
   "source": [
    "p1 = Pet(\"Fido\")\n",
    "print(p1) # we've seen this stuff before!\n",
    "\n",
    "p1.feed()\n",
    "p1.hi()\n",
    "print(p1)\n",
    "\n",
    "cat1 = Cat(\"Fluffy\")\n",
    "print(cat1) # this uses the same __str__ method as the Pets do\n",
    "\n",
    "cat1.feed() # Totally fine, because the cat class inherits from the Pet class!\n",
    "cat1.hi()\n",
    "print(cat1)\n",
    "\n",
    "print(cat1.chasing_rats())\n",
    "\n",
    "#print(p1.chasing_rats()) # This line will give us an error. The Pet class doesn't have this method!\n"
   ]
  },
  {
   "cell_type": "code",
   "execution_count": 3,
   "metadata": {},
   "outputs": [
    {
     "name": "stdout",
     "output_type": "stream",
     "text": [
      "Meow\n",
      "     I'm Fluffy.  I feel happy. \n",
      "What are you doing, Pinky? Taking over the world?!\n",
      "Meow\n",
      ":D :D :D\n",
      "Mrrp\n"
     ]
    }
   ],
   "source": [
    "class Cheshire(Cat): # this inherits from Cat, which inherits from Pet\n",
    "\n",
    "    def smile(self): # this method is specific to instances of Cheshire\n",
    "        print(\":D :D :D\")\n",
    "\n",
    "# Let's try it with instances.\n",
    "cat1 = Cat(\"Fluffy\")\n",
    "cat1.feed() # Totally fine, because the cat class inherits from the Pet class!\n",
    "cat1.hi() # Uses the special Cat hello.\n",
    "print(cat1)\n",
    "\n",
    "print(cat1.chasing_rats())\n",
    "\n",
    "new_cat = Cheshire(\"Pumpkin\") # create a Cheshire cat instance with name \"Pumpkin\"\n",
    "new_cat.hi() # same as Cat!\n",
    "new_cat.chasing_rats() # OK, because Cheshire inherits from Cat\n",
    "new_cat.smile() # Only for Cheshire instances (and any classes that you make inherit from Cheshire)\n",
    "\n",
    "# cat1.smile() # This line would give you an error, because the Cat class does not have this method!\n",
    "\n",
    "# None of the subclass methods can be used on the parent class, though.\n",
    "p1 = Pet(\"Teddy\")\n",
    "p1.hi() # just the regular Pet hello\n",
    "#p1.chasing_rats() # This will give you an error -- this method doesn't exist on instances of the Pet class.\n",
    "#p1.smile() # This will give you an error, too. This method does not exist on instances of the Pet class.\n"
   ]
  },
  {
   "cell_type": "code",
   "execution_count": 4,
   "metadata": {},
   "outputs": [
    {
     "name": "stdout",
     "output_type": "stream",
     "text": [
      "Pumpkin\n"
     ]
    }
   ],
   "source": [
    "new_cat = Cheshire(\"Pumpkin\")\n",
    "print(new_cat.name)"
   ]
  },
  {
   "cell_type": "code",
   "execution_count": 7,
   "metadata": {},
   "outputs": [
    {
     "name": "stdout",
     "output_type": "stream",
     "text": [
      "Meow\n"
     ]
    }
   ],
   "source": [
    "cat1 = Cat(\"Sepia\")\n",
    "cat1.hi()"
   ]
  },
  {
   "cell_type": "code",
   "execution_count": 10,
   "metadata": {},
   "outputs": [
    {
     "name": "stdout",
     "output_type": "stream",
     "text": [
      "We are Siamese if you please. We are Siamese if you don’t please.\n"
     ]
    }
   ],
   "source": [
    "new_cat = Cheshire(\"Pumpkin\")\n",
    "class Siamese(Cat):\n",
    "    \n",
    "  def song(self):\n",
    "    print(\"We are Siamese if you please. We are Siamese if you don’t please.\")\n",
    "\n",
    "another_cat = Siamese(\"Lady\")\n",
    "another_cat.song()"
   ]
  },
  {
   "cell_type": "markdown",
   "metadata": {},
   "source": [
    "- instance variable \n",
    "- class variable (or method) \n",
    "- constructor\n",
    "- parameter "
   ]
  },
  {
   "cell_type": "markdown",
   "metadata": {},
   "source": [
    "# 22.3. Overriding Methods"
   ]
  },
  {
   "cell_type": "code",
   "execution_count": null,
   "metadata": {},
   "outputs": [],
   "source": []
  },
  {
   "cell_type": "markdown",
   "metadata": {},
   "source": [
    "# Random Practice"
   ]
  },
  {
   "cell_type": "code",
   "execution_count": 1,
   "metadata": {},
   "outputs": [],
   "source": [
    "class Solution:\n",
    "    \n",
    "    def twoSum(self, nums, target):\n",
    "        self.nums = list(nums)\n",
    "        self.target = int(target)\n",
    "        \n",
    "    def summing(self):\n",
    "        add=0 \n",
    "        for i in range(1,self.target):\n",
    "            add +=  self.nums[i]\n",
    "        return add\n",
    "            "
   ]
  },
  {
   "cell_type": "code",
   "execution_count": 2,
   "metadata": {},
   "outputs": [
    {
     "data": {
      "text/plain": [
       "5"
      ]
     },
     "execution_count": 2,
     "metadata": {},
     "output_type": "execute_result"
    }
   ],
   "source": [
    "muns=[1,2,3,4]\n",
    "tar = 3\n",
    "\n",
    "cl = Solution()\n",
    "cl.twoSum(muns, tar)\n",
    "cl.summing()"
   ]
  },
  {
   "cell_type": "code",
   "execution_count": 14,
   "metadata": {},
   "outputs": [],
   "source": [
    "class Solution:\n",
    "    \n",
    "    def twoSum(self, nums, target):\n",
    "        self.nums = list(nums)\n",
    "        self.target = int(target)\n",
    "        \n",
    "    def summing(self):\n",
    "        l=[]\n",
    "        add=0 \n",
    "        for i in range(0,self.target):\n",
    "            add +=  self.nums[i]\n",
    "            l.append(i)\n",
    "        return l\n",
    "            "
   ]
  },
  {
   "cell_type": "code",
   "execution_count": 15,
   "metadata": {},
   "outputs": [
    {
     "data": {
      "text/plain": [
       "[0, 1, 2]"
      ]
     },
     "execution_count": 15,
     "metadata": {},
     "output_type": "execute_result"
    }
   ],
   "source": [
    "muns= [2,7,11,15]\n",
    "tar = 3\n",
    "\n",
    "cl = Solution()\n",
    "cl.twoSum(muns, tar)\n",
    "cl.summing()"
   ]
  },
  {
   "cell_type": "code",
   "execution_count": 26,
   "metadata": {},
   "outputs": [
    {
     "name": "stdout",
     "output_type": "stream",
     "text": [
      "[0, 1]\n"
     ]
    }
   ],
   "source": [
    "num = [2,7,11,15]\n",
    "target = 9\n",
    "\n",
    "while True:\n",
    "    solu = 0\n",
    "    t = False\n",
    "    l=[]\n",
    "    \n",
    "    for i in range(0,len(num)+1):\n",
    "        solu += num[i]\n",
    "        l.append(i)\n",
    "        \n",
    "        if solu == target:\n",
    "            print(l)\n",
    "            t = True\n",
    "            break\n",
    "    if t:\n",
    "        break\n",
    "        "
   ]
  },
  {
   "cell_type": "code",
   "execution_count": 33,
   "metadata": {},
   "outputs": [],
   "source": [
    "class Solution:\n",
    "    \n",
    "    def twoSum(self, num, target):\n",
    "        self.num = list(num)\n",
    "        self.target = int(target)\n",
    "        \n",
    "    def summing(self):\n",
    "        while True:\n",
    "            solu = 0\n",
    "            t = False\n",
    "            l=[]\n",
    "            \n",
    "            for i in range(0,len(self.num)):\n",
    "                solu += self.num[i]\n",
    "                l.append(i)\n",
    "        \n",
    "                if solu == self.target:\n",
    "                    print(l)\n",
    "                    t = True\n",
    "                    break\n",
    "            if t:\n",
    "                break\n",
    "        "
   ]
  },
  {
   "cell_type": "code",
   "execution_count": 37,
   "metadata": {},
   "outputs": [
    {
     "name": "stdout",
     "output_type": "stream",
     "text": [
      "[0, 1, 2]\n"
     ]
    }
   ],
   "source": [
    "muns= [2,7,11,15]\n",
    "tar = 20\n",
    "\n",
    "cl = Solution()\n",
    "cl.twoSum(muns, tar)\n",
    "cl.summing()"
   ]
  },
  {
   "cell_type": "code",
   "execution_count": 38,
   "metadata": {},
   "outputs": [
    {
     "name": "stdout",
     "output_type": "stream",
     "text": [
      "[10, 30, 60, 100, 150]\n"
     ]
    }
   ],
   "source": [
    "def Cumulative(lists):  \n",
    "    cu_list = []  \n",
    "    length = len(lists)  \n",
    "    cu_list = [sum(lists[0:x:1]) for x in range(0, length+1)]  \n",
    "    return cu_list[1:] \n",
    "  \n",
    "# Driver Code  \n",
    "lists = [10, 20, 30, 40, 50]  \n",
    "print (Cumulative(lists)) "
   ]
  },
  {
   "cell_type": "code",
   "execution_count": 39,
   "metadata": {},
   "outputs": [
    {
     "ename": "ModuleNotFoundError",
     "evalue": "No module named 'pandas'",
     "output_type": "error",
     "traceback": [
      "\u001b[0;31m---------------------------------------------------------------------------\u001b[0m",
      "\u001b[0;31mModuleNotFoundError\u001b[0m                       Traceback (most recent call last)",
      "\u001b[0;32m<ipython-input-39-479eb9f612af>\u001b[0m in \u001b[0;36m<module>\u001b[0;34m\u001b[0m\n\u001b[1;32m      1\u001b[0m \u001b[0;31m# importing pandas module\u001b[0m\u001b[0;34m\u001b[0m\u001b[0;34m\u001b[0m\u001b[0;34m\u001b[0m\u001b[0m\n\u001b[0;32m----> 2\u001b[0;31m \u001b[0;32mimport\u001b[0m \u001b[0mpandas\u001b[0m \u001b[0;32mas\u001b[0m \u001b[0mpd\u001b[0m\u001b[0;34m\u001b[0m\u001b[0;34m\u001b[0m\u001b[0m\n\u001b[0m\u001b[1;32m      3\u001b[0m \u001b[0;34m\u001b[0m\u001b[0m\n\u001b[1;32m      4\u001b[0m \u001b[0;31m# importing numpy module\u001b[0m\u001b[0;34m\u001b[0m\u001b[0;34m\u001b[0m\u001b[0;34m\u001b[0m\u001b[0m\n\u001b[1;32m      5\u001b[0m \u001b[0;32mimport\u001b[0m \u001b[0mnumpy\u001b[0m \u001b[0;32mas\u001b[0m \u001b[0mnp\u001b[0m\u001b[0;34m\u001b[0m\u001b[0;34m\u001b[0m\u001b[0m\n",
      "\u001b[0;31mModuleNotFoundError\u001b[0m: No module named 'pandas'"
     ]
    }
   ],
   "source": [
    "# importing pandas module \n",
    "import pandas as pd \n",
    "  \n",
    "# importing numpy module \n",
    "import numpy as np \n",
    "  \n",
    "# making list of values \n",
    "values = [3, 4, np.nan, 7, 2, 0] \n",
    "  \n",
    "# making series from list \n",
    "series = pd.Series(values) \n",
    "  \n",
    "# calling method \n",
    "cumsum = series.cumsum() \n",
    "  \n",
    "# display \n",
    "cumsum "
   ]
  },
  {
   "cell_type": "code",
   "execution_count": 1,
   "metadata": {},
   "outputs": [],
   "source": [
    "class Solution:\n",
    "    def twoSum(self, nums, target):\n",
    "        \"\"\"\n",
    "        :type nums: List[int]\n",
    "        :type target: int\n",
    "        :rtype: List[int]\n",
    "        \"\"\"\n",
    "        h = {}\n",
    "        for i, num in enumerate(nums):\n",
    "            \n",
    "            n = target - num\n",
    "            \n",
    "            if n not in h:\n",
    "                h[num] = i\n",
    "            else:\n",
    "                return [h[n], i]"
   ]
  },
  {
   "cell_type": "code",
   "execution_count": 7,
   "metadata": {},
   "outputs": [
    {
     "name": "stdout",
     "output_type": "stream",
     "text": [
      "<__main__.Solution object at 0x105010f98>\n"
     ]
    }
   ],
   "source": [
    "muns= [2,7,11,15]\n",
    "tar = 20\n",
    "\n",
    "cl = Solution()\n",
    "cl.twoSum(muns, tar)\n"
   ]
  },
  {
   "cell_type": "code",
   "execution_count": 6,
   "metadata": {},
   "outputs": [],
   "source": [
    "class Solution:\n",
    "    \n",
    "    def __init__(self, num, target):\n",
    "        self.num = list(num)\n",
    "        self.target = int(target)\n",
    "        \n",
    "    def summing(self):\n",
    "        while True:\n",
    "            solu = 0\n",
    "            t = False\n",
    "            l=[]\n",
    "            \n",
    "            for i in range(0,len(self.num)):\n",
    "                solu += self.num[i]\n",
    "                l.append(i)\n",
    "        \n",
    "                if solu == self.target:\n",
    "                    print(l)\n",
    "                    t = True\n",
    "                    break\n",
    "            if t:\n",
    "                break\n",
    "        "
   ]
  },
  {
   "cell_type": "code",
   "execution_count": 7,
   "metadata": {},
   "outputs": [
    {
     "name": "stdout",
     "output_type": "stream",
     "text": [
      "[0, 1, 2]\n"
     ]
    }
   ],
   "source": [
    "muns= [2,7,11,15]\n",
    "tar = 20\n",
    "\n",
    "cl = Solution(muns, tar)\n",
    "cl.summing()"
   ]
  },
  {
   "cell_type": "code",
   "execution_count": 5,
   "metadata": {},
   "outputs": [
    {
     "name": "stdout",
     "output_type": "stream",
     "text": [
      "[0, 1]\n"
     ]
    }
   ],
   "source": [
    "nums= [2,7,11,15]\n",
    "target = 9\n",
    "\n",
    "h = {}\n",
    "for i, num in enumerate(nums):\n",
    "    n = target - num\n",
    "    if n not in h:\n",
    "        h[num] = i\n",
    "    else:\n",
    "        print([h[n], i])"
   ]
  },
  {
   "cell_type": "code",
   "execution_count": null,
   "metadata": {},
   "outputs": [],
   "source": []
  }
 ],
 "metadata": {
  "kernelspec": {
   "display_name": "Python 3",
   "language": "python",
   "name": "python3"
  },
  "language_info": {
   "codemirror_mode": {
    "name": "ipython",
    "version": 3
   },
   "file_extension": ".py",
   "mimetype": "text/x-python",
   "name": "python",
   "nbconvert_exporter": "python",
   "pygments_lexer": "ipython3",
   "version": "3.6.2"
  }
 },
 "nbformat": 4,
 "nbformat_minor": 4
}
