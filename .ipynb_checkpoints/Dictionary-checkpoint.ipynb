{
 "cells": [
  {
   "cell_type": "markdown",
   "metadata": {},
   "source": [
    "# Creating dictionary"
   ]
  },
  {
   "cell_type": "code",
   "execution_count": 2,
   "metadata": {},
   "outputs": [
    {
     "data": {
      "text/plain": [
       "{'one': 1, 'Two': 'TWO', 3: 3}"
      ]
     },
     "execution_count": 2,
     "metadata": {},
     "output_type": "execute_result"
    }
   ],
   "source": [
    "# creating empty dictionary\n",
    "cr = {}\n",
    "\n",
    "# adding values to dictionary\n",
    "cr['one'] = 1\n",
    "cr[\"Two\"] ='TWO'\n",
    "cr[3] = 3\n",
    "cr"
   ]
  },
  {
   "cell_type": "code",
   "execution_count": 7,
   "metadata": {},
   "outputs": [
    {
     "name": "stdout",
     "output_type": "stream",
     "text": [
      "{'one': 1, 'Two': 'TWO', 3: 3}\n"
     ]
    }
   ],
   "source": [
    "cr2= {'one': 1, 'Two': 'TWO', 3: 3}\n",
    "print(cr2)"
   ]
  },
  {
   "cell_type": "code",
   "execution_count": 4,
   "metadata": {},
   "outputs": [
    {
     "data": {
      "text/plain": [
       "1"
      ]
     },
     "execution_count": 4,
     "metadata": {},
     "output_type": "execute_result"
    }
   ],
   "source": [
    "cr2['one']"
   ]
  },
  {
   "cell_type": "markdown",
   "metadata": {},
   "source": [
    "## del"
   ]
  },
  {
   "cell_type": "code",
   "execution_count": 8,
   "metadata": {},
   "outputs": [
    {
     "data": {
      "text/plain": [
       "{'Two': 'TWO', 3: 3}"
      ]
     },
     "execution_count": 8,
     "metadata": {},
     "output_type": "execute_result"
    }
   ],
   "source": [
    "del cr2['one']\n",
    "\n",
    "cr2"
   ]
  },
  {
   "cell_type": "markdown",
   "metadata": {},
   "source": [
    "## updating the values"
   ]
  },
  {
   "cell_type": "code",
   "execution_count": 9,
   "metadata": {},
   "outputs": [
    {
     "data": {
      "text/plain": [
       "{'Two': 'TWO', 3: 22}"
      ]
     },
     "execution_count": 9,
     "metadata": {},
     "output_type": "execute_result"
    }
   ],
   "source": [
    "cr2[3]=22\n",
    "cr2"
   ]
  },
  {
   "cell_type": "markdown",
   "metadata": {},
   "source": [
    "### arithmetic operation with dictionary"
   ]
  },
  {
   "cell_type": "code",
   "execution_count": 10,
   "metadata": {},
   "outputs": [
    {
     "data": {
      "text/plain": [
       "{'Two': 'TWO', 3: 12}"
      ]
     },
     "execution_count": 10,
     "metadata": {},
     "output_type": "execute_result"
    }
   ],
   "source": [
    "cr2[3]=22 -10\n",
    "cr2"
   ]
  },
  {
   "cell_type": "code",
   "execution_count": 11,
   "metadata": {},
   "outputs": [
    {
     "data": {
      "text/plain": [
       "2"
      ]
     },
     "execution_count": 11,
     "metadata": {},
     "output_type": "execute_result"
    }
   ],
   "source": [
    "len(cr2)"
   ]
  },
  {
   "cell_type": "code",
   "execution_count": 13,
   "metadata": {},
   "outputs": [
    {
     "data": {
      "text/plain": [
       "6"
      ]
     },
     "execution_count": 13,
     "metadata": {},
     "output_type": "execute_result"
    }
   ],
   "source": [
    "cr3={'one':1, 'two':2, 'three':3}\n",
    "\n",
    "cr3['total']= cr3['one'] + cr3['two'] + cr3['three']\n",
    "\n",
    "cr3['total']"
   ]
  },
  {
   "cell_type": "code",
   "execution_count": 25,
   "metadata": {},
   "outputs": [
    {
     "name": "stdout",
     "output_type": "stream",
     "text": [
      "False\n"
     ]
    }
   ],
   "source": [
    "print( 1 in cr3)"
   ]
  },
  {
   "cell_type": "code",
   "execution_count": 26,
   "metadata": {},
   "outputs": [
    {
     "name": "stdout",
     "output_type": "stream",
     "text": [
      "True\n"
     ]
    }
   ],
   "source": [
    "print('one' in cr3)"
   ]
  },
  {
   "cell_type": "markdown",
   "metadata": {},
   "source": [
    "## for loop will give unordered value of dic"
   ]
  },
  {
   "cell_type": "code",
   "execution_count": 17,
   "metadata": {},
   "outputs": [
    {
     "name": "stdout",
     "output_type": "stream",
     "text": [
      "one is 1\n",
      "two is 2\n",
      "three is 3\n",
      "total is 6\n"
     ]
    }
   ],
   "source": [
    "for key in cr3.keys():\n",
    "    print(key, 'is' , cr3[key])"
   ]
  },
  {
   "cell_type": "code",
   "execution_count": 18,
   "metadata": {},
   "outputs": [
    {
     "data": {
      "text/plain": [
       "['one', 'two', 'three', 'total']"
      ]
     },
     "execution_count": 18,
     "metadata": {},
     "output_type": "execute_result"
    }
   ],
   "source": [
    "keys = list(cr3.keys())\n",
    "keys"
   ]
  },
  {
   "cell_type": "code",
   "execution_count": 21,
   "metadata": {},
   "outputs": [
    {
     "data": {
      "text/plain": [
       "[1, 2, 3, 6]"
      ]
     },
     "execution_count": 21,
     "metadata": {},
     "output_type": "execute_result"
    }
   ],
   "source": [
    "value = list(cr3.values())\n",
    "value"
   ]
  },
  {
   "cell_type": "code",
   "execution_count": 19,
   "metadata": {},
   "outputs": [
    {
     "data": {
      "text/plain": [
       "[('one', 1), ('two', 2), ('three', 3), ('total', 6)]"
      ]
     },
     "execution_count": 19,
     "metadata": {},
     "output_type": "execute_result"
    }
   ],
   "source": [
    "items = list(cr3.items())\n",
    "items"
   ]
  },
  {
   "cell_type": "markdown",
   "metadata": {},
   "source": [
    "# Easy Dictionary Creation"
   ]
  },
  {
   "cell_type": "code",
   "execution_count": 1,
   "metadata": {},
   "outputs": [
    {
     "data": {
      "text/plain": [
       "{'histtype': 'stepfilled', 'alpha': 0.3, 'normed': True, 'bins': 40}"
      ]
     },
     "execution_count": 1,
     "metadata": {},
     "output_type": "execute_result"
    }
   ],
   "source": [
    "kwargs = dict(histtype='stepfilled', alpha=0.3, normed=True, bins=40)\n",
    "kwargs"
   ]
  },
  {
   "cell_type": "markdown",
   "metadata": {},
   "source": [
    "# to_dict\n",
    "- from pandas library\n",
    "- to convert dataframe to dict"
   ]
  },
  {
   "cell_type": "code",
   "execution_count": 2,
   "metadata": {},
   "outputs": [
    {
     "data": {
      "text/html": [
       "<div>\n",
       "<style scoped>\n",
       "    .dataframe tbody tr th:only-of-type {\n",
       "        vertical-align: middle;\n",
       "    }\n",
       "\n",
       "    .dataframe tbody tr th {\n",
       "        vertical-align: top;\n",
       "    }\n",
       "\n",
       "    .dataframe thead th {\n",
       "        text-align: right;\n",
       "    }\n",
       "</style>\n",
       "<table border=\"1\" class=\"dataframe\">\n",
       "  <thead>\n",
       "    <tr style=\"text-align: right;\">\n",
       "      <th></th>\n",
       "      <th>0</th>\n",
       "      <th>1</th>\n",
       "    </tr>\n",
       "  </thead>\n",
       "  <tbody>\n",
       "    <tr>\n",
       "      <th>customerID</th>\n",
       "      <td>7590-VHVEG</td>\n",
       "      <td>5575-GNVDE</td>\n",
       "    </tr>\n",
       "    <tr>\n",
       "      <th>gender</th>\n",
       "      <td>Female</td>\n",
       "      <td>Male</td>\n",
       "    </tr>\n",
       "    <tr>\n",
       "      <th>SeniorCitizen</th>\n",
       "      <td>0</td>\n",
       "      <td>0</td>\n",
       "    </tr>\n",
       "    <tr>\n",
       "      <th>Partner</th>\n",
       "      <td>Yes</td>\n",
       "      <td>No</td>\n",
       "    </tr>\n",
       "    <tr>\n",
       "      <th>Dependents</th>\n",
       "      <td>No</td>\n",
       "      <td>No</td>\n",
       "    </tr>\n",
       "    <tr>\n",
       "      <th>tenure</th>\n",
       "      <td>1</td>\n",
       "      <td>34</td>\n",
       "    </tr>\n",
       "    <tr>\n",
       "      <th>PhoneService</th>\n",
       "      <td>No</td>\n",
       "      <td>Yes</td>\n",
       "    </tr>\n",
       "    <tr>\n",
       "      <th>MultipleLines</th>\n",
       "      <td>No phone service</td>\n",
       "      <td>No</td>\n",
       "    </tr>\n",
       "    <tr>\n",
       "      <th>InternetService</th>\n",
       "      <td>DSL</td>\n",
       "      <td>DSL</td>\n",
       "    </tr>\n",
       "    <tr>\n",
       "      <th>OnlineSecurity</th>\n",
       "      <td>No</td>\n",
       "      <td>Yes</td>\n",
       "    </tr>\n",
       "    <tr>\n",
       "      <th>OnlineBackup</th>\n",
       "      <td>Yes</td>\n",
       "      <td>No</td>\n",
       "    </tr>\n",
       "    <tr>\n",
       "      <th>DeviceProtection</th>\n",
       "      <td>No</td>\n",
       "      <td>Yes</td>\n",
       "    </tr>\n",
       "    <tr>\n",
       "      <th>TechSupport</th>\n",
       "      <td>No</td>\n",
       "      <td>No</td>\n",
       "    </tr>\n",
       "    <tr>\n",
       "      <th>StreamingTV</th>\n",
       "      <td>No</td>\n",
       "      <td>No</td>\n",
       "    </tr>\n",
       "    <tr>\n",
       "      <th>StreamingMovies</th>\n",
       "      <td>No</td>\n",
       "      <td>No</td>\n",
       "    </tr>\n",
       "    <tr>\n",
       "      <th>Contract</th>\n",
       "      <td>Month-to-month</td>\n",
       "      <td>One year</td>\n",
       "    </tr>\n",
       "    <tr>\n",
       "      <th>PaperlessBilling</th>\n",
       "      <td>Yes</td>\n",
       "      <td>No</td>\n",
       "    </tr>\n",
       "    <tr>\n",
       "      <th>PaymentMethod</th>\n",
       "      <td>Electronic check</td>\n",
       "      <td>Mailed check</td>\n",
       "    </tr>\n",
       "    <tr>\n",
       "      <th>MonthlyCharges</th>\n",
       "      <td>29.85</td>\n",
       "      <td>56.95</td>\n",
       "    </tr>\n",
       "    <tr>\n",
       "      <th>TotalCharges</th>\n",
       "      <td>29.85</td>\n",
       "      <td>1889.5</td>\n",
       "    </tr>\n",
       "    <tr>\n",
       "      <th>Churn</th>\n",
       "      <td>No</td>\n",
       "      <td>No</td>\n",
       "    </tr>\n",
       "  </tbody>\n",
       "</table>\n",
       "</div>"
      ],
      "text/plain": [
       "                                 0             1\n",
       "customerID              7590-VHVEG    5575-GNVDE\n",
       "gender                      Female          Male\n",
       "SeniorCitizen                    0             0\n",
       "Partner                        Yes            No\n",
       "Dependents                      No            No\n",
       "tenure                           1            34\n",
       "PhoneService                    No           Yes\n",
       "MultipleLines     No phone service            No\n",
       "InternetService                DSL           DSL\n",
       "OnlineSecurity                  No           Yes\n",
       "OnlineBackup                   Yes            No\n",
       "DeviceProtection                No           Yes\n",
       "TechSupport                     No            No\n",
       "StreamingTV                     No            No\n",
       "StreamingMovies                 No            No\n",
       "Contract            Month-to-month      One year\n",
       "PaperlessBilling               Yes            No\n",
       "PaymentMethod     Electronic check  Mailed check\n",
       "MonthlyCharges               29.85         56.95\n",
       "TotalCharges                 29.85        1889.5\n",
       "Churn                           No            No"
      ]
     },
     "execution_count": 2,
     "metadata": {},
     "output_type": "execute_result"
    }
   ],
   "source": [
    "import pandas as pd , numpy as np\n",
    "import seaborn as sns\n",
    "from matplotlib import pyplot as plt\n",
    "# %matplotlib inline\n",
    "\n",
    "df = pd.read_csv('/Users/knight/Desktop/language/python/practice/Dataset/WA_Fn-UseC_-Telco-Customer-Churn.csv')\n",
    "\n",
    "df.head(2).T"
   ]
  },
  {
   "cell_type": "code",
   "execution_count": 4,
   "metadata": {},
   "outputs": [
    {
     "data": {
      "text/plain": [
       "{'customerID': '7590-VHVEG',\n",
       " 'gender': 'Female',\n",
       " 'SeniorCitizen': 0,\n",
       " 'Partner': 'Yes',\n",
       " 'Dependents': 'No',\n",
       " 'tenure': 1,\n",
       " 'PhoneService': 'No',\n",
       " 'MultipleLines': 'No phone service',\n",
       " 'InternetService': 'DSL',\n",
       " 'OnlineSecurity': 'No',\n",
       " 'OnlineBackup': 'Yes',\n",
       " 'DeviceProtection': 'No',\n",
       " 'TechSupport': 'No',\n",
       " 'StreamingTV': 'No',\n",
       " 'StreamingMovies': 'No',\n",
       " 'Contract': 'Month-to-month',\n",
       " 'PaperlessBilling': 'Yes',\n",
       " 'PaymentMethod': 'Electronic check',\n",
       " 'MonthlyCharges': 29.85,\n",
       " 'TotalCharges': '29.85',\n",
       " 'Churn': 'No'}"
      ]
     },
     "execution_count": 4,
     "metadata": {},
     "output_type": "execute_result"
    }
   ],
   "source": [
    "di = df.to_dict(orient='rows')\n",
    "di[0]"
   ]
  },
  {
   "cell_type": "markdown",
   "metadata": {},
   "source": [
    "# Dictionary get()"
   ]
  },
  {
   "cell_type": "markdown",
   "metadata": {},
   "source": [
    "**get()** Parameters<br>\n",
    "**get()** method takes maximum of two parameters:<br>\n",
    "\n",
    "key - key to be searched in the dictionary\n",
    "value (optional) - Value to be returned if the key is not found. The default value is None.\n"
   ]
  },
  {
   "cell_type": "code",
   "execution_count": 3,
   "metadata": {},
   "outputs": [
    {
     "name": "stdout",
     "output_type": "stream",
     "text": [
      "Name:  Phill\n",
      "Age:  22\n"
     ]
    }
   ],
   "source": [
    "person = {'name': 'Phill', 'age': 22}\n",
    "\n",
    "print('Name: ', person.get('name'))\n",
    "print('Age: ', person.get('age'))\n"
   ]
  },
  {
   "cell_type": "code",
   "execution_count": 2,
   "metadata": {},
   "outputs": [
    {
     "name": "stdout",
     "output_type": "stream",
     "text": [
      "Salary:  None\n",
      "Salary:  0.0\n"
     ]
    }
   ],
   "source": [
    "# value is not provided\n",
    "print('Salary: ', person.get('salary'))\n",
    "\n",
    "# value is provided\n",
    "print('Salary: ', person.get('salary', 0.0))"
   ]
  },
  {
   "cell_type": "code",
   "execution_count": 22,
   "metadata": {},
   "outputs": [
    {
     "data": {
      "text/plain": [
       "0"
      ]
     },
     "execution_count": 22,
     "metadata": {},
     "output_type": "execute_result"
    }
   ],
   "source": [
    "cr3={'one':1, 'two':2, 'three':3}\n",
    "\n",
    "ans = cr3.get('one')//cr3.get('two')\n",
    "ans"
   ]
  },
  {
   "cell_type": "code",
   "execution_count": 37,
   "metadata": {},
   "outputs": [
    {
     "data": {
      "text/plain": [
       "{'one': 1, 'two': 2, 'three': 3}"
      ]
     },
     "execution_count": 37,
     "metadata": {},
     "output_type": "execute_result"
    }
   ],
   "source": [
    "cr3.get('one')\n",
    "\n",
    "cr3"
   ]
  },
  {
   "cell_type": "code",
   "execution_count": 24,
   "metadata": {},
   "outputs": [
    {
     "name": "stdin",
     "output_type": "stream",
     "text": [
      "Enter a line of text: the clown ran after the car and the car ran into  the tent and the then fell down on the clown and the car\n"
     ]
    },
    {
     "name": "stdout",
     "output_type": "stream",
     "text": [
      "Words: ['the', 'clown', 'ran', 'after', 'the', 'car', 'and', 'the', 'car', 'ran', 'into', 'the', 'tent', 'and', 'the', 'then', 'fell', 'down', 'on', 'the', 'clown', 'and', 'the', 'car']\n",
      "Counting...\n",
      "Counts {'the': 7, 'clown': 2, 'ran': 2, 'after': 1, 'car': 3, 'and': 3, 'into': 1, 'tent': 1, 'then': 1, 'fell': 1, 'down': 1, 'on': 1}\n"
     ]
    }
   ],
   "source": [
    "counts  = dict()\n",
    "# the clown ran after the car and the car ran into \n",
    "# the tent and the then fell down on the clown and\n",
    "# the car\n",
    "line = input('Enter a line of text:')\n",
    "\n",
    "words = line.split()\n",
    "\n",
    "print('Words:', words)\n",
    "\n",
    "print('Counting...')\n",
    "\n",
    "for word in words:\n",
    "    counts[word] = counts.get(word,0) +1 # if word not in counts then 0+1 other wise +1 to exisitng count \n",
    "print('Counts',counts)\n"
   ]
  },
  {
   "cell_type": "code",
   "execution_count": 8,
   "metadata": {},
   "outputs": [
    {
     "name": "stdout",
     "output_type": "stream",
     "text": [
      "The clown ran after the car and the car ran into the tent and the then fell down on the clown and the car. And there were none\n",
      "\n"
     ]
    }
   ],
   "source": [
    "f = open(\"go_get_it.txt\")\n",
    "print(f.read())"
   ]
  },
  {
   "cell_type": "code",
   "execution_count": 11,
   "metadata": {},
   "outputs": [
    {
     "name": "stdout",
     "output_type": "stream",
     "text": [
      "Counts {'the': 7, 'clown': 2, 'ran': 2, 'after': 1, 'car': 3, 'and': 3, 'into': 1, 'tent': 1, 'then': 1, 'fell': 1, 'down': 1, 'on': 1, ' ': 24, 't': 12, 'h': 8, 'e': 11, 'c': 5, 'l': 4, 'o': 5, 'w': 3, 'n': 12, 'r': 6, 'a': 9, 'f': 2, 'd': 4, 'i': 1}\n"
     ]
    }
   ],
   "source": [
    "line = f.read()\n",
    "\n",
    "for word in line:\n",
    "    counts[word] = counts.get(word,0) +1\n",
    "print('Counts',counts)"
   ]
  },
  {
   "cell_type": "code",
   "execution_count": 38,
   "metadata": {},
   "outputs": [
    {
     "name": "stdout",
     "output_type": "stream",
     "text": [
      "{'the': 7, 'clown': 2, 'ran': 2, 'after': 1, 'car': 3, 'and': 3, 'into': 1, 'tent': 1, 'then': 1, 'fell': 1, 'down': 1, 'on': 1}\n"
     ]
    }
   ],
   "source": [
    "sen = 'the clown ran after the car and the car ran into  the tent and the then fell down on the clown and the car'\n",
    "\n",
    "empt_dict = {}\n",
    "\n",
    "count = 0\n",
    "for word in sen.split():\n",
    "    \n",
    "    if word not in empt_dict:\n",
    "        empt_dict[word] = 1\n",
    "        \n",
    "    else:\n",
    "        empt_dict[word] = empt_dict[word] + 1\n",
    "print(empt_dict)"
   ]
  },
  {
   "cell_type": "code",
   "execution_count": 40,
   "metadata": {},
   "outputs": [
    {
     "name": "stdout",
     "output_type": "stream",
     "text": [
      "{'the': 7, 'clown': 2, 'ran': 2, 'after': 1, 'car': 3, 'and': 3, 'into': 1, 'tent': 1, 'then': 1, 'fell': 1, 'down': 1, 'on': 1}\n"
     ]
    }
   ],
   "source": [
    "def count_words(sentence):\n",
    "    \n",
    "    empt_dict = {}\n",
    "\n",
    "    count = 0\n",
    "    for word in sentence.split():\n",
    "\n",
    "        if word not in empt_dict:\n",
    "            empt_dict[word] = 1\n",
    "\n",
    "        else:\n",
    "            empt_dict[word] = empt_dict[word] + 1\n",
    "    print(empt_dict)\n",
    "    \n",
    "count_words(sen)"
   ]
  },
  {
   "cell_type": "code",
   "execution_count": 60,
   "metadata": {},
   "outputs": [
    {
     "name": "stdout",
     "output_type": "stream",
     "text": [
      "the\n",
      "clown\n",
      "ran\n",
      "after\n",
      "the\n"
     ]
    }
   ],
   "source": [
    "count = 0\n",
    "for word in sen.split():\n",
    "    count +=1\n",
    "    if count >5:\n",
    "        break\n",
    "    print(word)"
   ]
  },
  {
   "cell_type": "code",
   "execution_count": 69,
   "metadata": {},
   "outputs": [
    {
     "data": {
      "text/plain": [
       "{'the': 7,\n",
       " 'clown': 2,\n",
       " 'ran': 2,\n",
       " 'after': 1,\n",
       " 'car': 3,\n",
       " 'and': 3,\n",
       " 'into': 1,\n",
       " 'tent': 1,\n",
       " 'then': 1,\n",
       " 'fell': 1,\n",
       " 'down': 1,\n",
       " 'on': 1}"
      ]
     },
     "execution_count": 69,
     "metadata": {},
     "output_type": "execute_result"
    }
   ],
   "source": [
    "def counting_words(text):\n",
    "    \n",
    "    empt_dict = {}\n",
    "\n",
    "    for word in text.split():\n",
    "        empt_dict[word]  = empt_dict.get(word,0)+1\n",
    "        \n",
    "    return empt_dict\n",
    "\n",
    "counting_words(sen)"
   ]
  },
  {
   "cell_type": "markdown",
   "metadata": {},
   "source": [
    "# Creating Dictionary with for loop"
   ]
  },
  {
   "cell_type": "code",
   "execution_count": 1,
   "metadata": {},
   "outputs": [
    {
     "name": "stdout",
     "output_type": "stream",
     "text": [
      "a0\n",
      "b1\n",
      "c2\n"
     ]
    }
   ],
   "source": [
    "emty_dict = {}\n",
    "letter ='abc'\n",
    "for number  in range(3):\n",
    "    empty_dic=  letter[number] + str(number)\n",
    "    print(empty_dic)"
   ]
  },
  {
   "cell_type": "code",
   "execution_count": 2,
   "metadata": {},
   "outputs": [
    {
     "name": "stdout",
     "output_type": "stream",
     "text": [
      "{'a0', 'c2', 'b1'}\n"
     ]
    }
   ],
   "source": [
    "letter ='abc'\n",
    "print({letter[i]+ str(i)  for i in range(3)})"
   ]
  },
  {
   "cell_type": "code",
   "execution_count": null,
   "metadata": {},
   "outputs": [],
   "source": [
    "# 1. The dictionary Junior shows a schedule for a junior year semester.\n",
    "# The key is the course name and the value is the number of credits.\n",
    "# Find the total number of credits taken this semester and assign it to the variable credits.\n",
    "# Do not hardcode this – use dictionary accumulation!\n",
    "\n",
    "Junior = {'SI 206':4, 'SI 310':4, 'BL 300':3, 'TO 313':3, 'BCOM 350':1, 'MO 300':3}\n",
    "credits = 0\n",
    "for v in Junior.values():\n",
    "    credits += v\n",
    "    print(credits)\n",
    "    \n",
    "# 2. Create a dictionary, freq, that displays each character in string str1 as the key and its frequency as the value.\n",
    "\n",
    "from collections import Counter\n",
    "\n",
    "str1 = \"peter piper picked a peck of pickled peppers\"\n",
    "freq = Counter(str1)\n",
    "\n",
    "for i in str1:\n",
    "    print(i, freq[i])\n",
    "    \n",
    "# 3. Provided is a string saved to the variable name s1.\n",
    "# Create a dictionary named counts that contains each letter in s1 and the number of times it occurs.\n",
    "\n",
    "s1 = \"hello\"\n",
    "\n",
    "def char_frequency(s1):\n",
    "    dict = {}\n",
    "    for n in s1:\n",
    "        keys = dict.keys()\n",
    "        if n in keys:\n",
    "            dict[n] += 1\n",
    "        else:\n",
    "            dict[n] = 1\n",
    "    return dict\n",
    "\n",
    "counts = char_frequency(s1)\n",
    "print(counts)\n",
    "\n",
    "# 4. Create a dictionary, freq_words, that displays each word in string str1 as the key and its frequency as the value.\n",
    "\n",
    "str1 = \"I wish I wish with all my heart to fly with dragons in a land apart\"\n",
    "\n",
    "def word_count(str):\n",
    "    counts = dict()\n",
    "    words = str.split()\n",
    "\n",
    "    for word in words:\n",
    "        if word in counts:\n",
    "            counts[word] += 1\n",
    "        else:\n",
    "            counts[word] = 1\n",
    "\n",
    "    return counts\n",
    "\n",
    "freq_words = word_count(str1)\n",
    "print(freq_words)\n",
    "\n",
    "# 5. Create a dictionary called wrd_d from the string sent,\n",
    "# so that the key is a word and the value is how many times you have seen that word.\n",
    "\n",
    "sent = \"Singing in the rain and playing in the rain are two entirely different situations but both can be good\"\n",
    "\n",
    "def word_count(str):\n",
    "    counts = dict()\n",
    "    words = str.split()\n",
    "\n",
    "    for word in words:\n",
    "        if word in counts:\n",
    "            counts[word] += 1\n",
    "        else:\n",
    "            counts[word] = 1\n",
    "\n",
    "    return counts\n",
    "\n",
    "wrd_d  = word_count(sent)\n",
    "print(wrd_d)\n",
    "\n",
    "# 6. Create the dictionary characters that shows each character from the string sally and its frequency.\n",
    "# Then, find the most frequent letter based on the dictionary. Assign this letter to the variable best_char.\n",
    "\n",
    "sally = \"sally sells sea shells by the sea shore\"\n",
    "characters = {}\n",
    "for i in sally:\n",
    "    characters[i]=characters.get(i,0)+1\n",
    "    \n",
    "sorted(characters.items(), key=lambda x: x[1])\n",
    "best_char = sorted(characters.items(), key=lambda x: x[1])[-1][0]\n",
    "\n",
    "# 7. Do the same as above but now find the least frequent letter.\n",
    "# Create the dictionary characters that shows each character from string sally and its frequency.\n",
    "# Then, find the least frequent letter in the string and assign the letter to the variable worst_char.\n",
    "\n",
    "sally = \"sally sells sea shells by the sea shore and by the road\"\n",
    "\n",
    "characters = {}\n",
    "for i in sally:\n",
    "    characters[i]=characters.get(i,0)+1\n",
    "    \n",
    "sorted(characters.items(), key=lambda x: x[1])\n",
    "worst_char = sorted(characters.items(), key=lambda x: x[1])[-13][0]\n",
    "\n",
    "# 9. Create a dictionary called low_d that keeps track of all the characters in the string p\n",
    "# and notes how many times each character was seen. Make sure that there are no repeats of characters as keys,\n",
    "# such that “T” and “t” are both seen as a “t” for example.\n",
    "\n",
    "import collections\n",
    "p = p = \"Summer is a great time to go outside. You have to be careful of the sun though because of the heat.\"\n",
    "low_d  = collections.defaultdict(int)\n",
    "\n",
    "for c in p:\n",
    "    low_d[c] += 1\n",
    "        \n",
    "for c in sorted(low_d, key=low_d.get, reverse=True):\n",
    "    if low_d[c] > 1:\n",
    "        print('%s %d' % (c, low_d[c]))"
   ]
  }
 ],
 "metadata": {
  "kernelspec": {
   "display_name": "Python 3",
   "language": "python",
   "name": "python3"
  },
  "language_info": {
   "codemirror_mode": {
    "name": "ipython",
    "version": 3
   },
   "file_extension": ".py",
   "mimetype": "text/x-python",
   "name": "python",
   "nbconvert_exporter": "python",
   "pygments_lexer": "ipython3",
   "version": "3.6.2"
  }
 },
 "nbformat": 4,
 "nbformat_minor": 4
}
